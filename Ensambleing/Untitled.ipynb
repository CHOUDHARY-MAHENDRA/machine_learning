{
 "cells": [
  {
   "cell_type": "code",
   "execution_count": 11,
   "id": "089c8444-3477-4ff6-af9d-68b08f167ace",
   "metadata": {},
   "outputs": [],
   "source": [
    "import numpy as np\n",
    "import pandas as pd"
   ]
  },
  {
   "cell_type": "code",
   "execution_count": 9,
   "id": "d0a845ec-3510-493d-968f-e54363a6c20a",
   "metadata": {},
   "outputs": [],
   "source": [
    "# from sklearn.datasets import load_boston\n",
    "# X,Y= load_boston(return_x_y=True)"
   ]
  },
  {
   "cell_type": "code",
   "execution_count": null,
   "id": "ec1e7a2c-8da5-4c61-a1fe-4f4cee028d86",
   "metadata": {},
   "outputs": [],
   "source": [
    "df"
   ]
  },
  {
   "cell_type": "code",
   "execution_count": null,
   "id": "990fa278-3242-4a26-9d80-e16bb7d1e7b0",
   "metadata": {},
   "outputs": [],
   "source": []
  }
 ],
 "metadata": {
  "kernelspec": {
   "display_name": "Python 3 (ipykernel)",
   "language": "python",
   "name": "python3"
  },
  "language_info": {
   "codemirror_mode": {
    "name": "ipython",
    "version": 3
   },
   "file_extension": ".py",
   "mimetype": "text/x-python",
   "name": "python",
   "nbconvert_exporter": "python",
   "pygments_lexer": "ipython3",
   "version": "3.11.7"
  }
 },
 "nbformat": 4,
 "nbformat_minor": 5
}
