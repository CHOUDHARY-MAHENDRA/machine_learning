{
 "cells": [
  {
   "cell_type": "code",
   "execution_count": 79,
   "id": "58906e34-1529-4eb2-9115-614bd511f22e",
   "metadata": {},
   "outputs": [],
   "source": [
    "import pandas as pd\n",
    "import numpy as np\n",
    "import matplotlib.pyplot as plt"
   ]
  },
  {
   "cell_type": "code",
   "execution_count": 80,
   "id": "26bde485-b87a-4e44-b681-2d2dfacd701f",
   "metadata": {},
   "outputs": [],
   "source": [
    "from sklearn.datasets import make_regression"
   ]
  },
  {
   "cell_type": "code",
   "execution_count": 81,
   "id": "43934c15-c64d-4408-a9ed-feace4edc960",
   "metadata": {},
   "outputs": [],
   "source": [
    "x,y=make_regression(n_samples=100,n_features=2,n_targets=1,n_informative=1,noise=20,random_state=15)"
   ]
  },
  {
   "cell_type": "code",
   "execution_count": 82,
   "id": "c6b2925d-a654-4989-afb5-e73aabbcb43f",
   "metadata": {},
   "outputs": [],
   "source": [
    "# n_samples"
   ]
  },
  {
   "cell_type": "code",
   "execution_count": 83,
   "id": "2a132d72-f42d-4d18-b203-955ffc7273d6",
   "metadata": {},
   "outputs": [
    {
     "data": {
      "text/plain": [
       "2"
      ]
     },
     "execution_count": 83,
     "metadata": {},
     "output_type": "execute_result"
    }
   ],
   "source": [
    "x.shape[1]"
   ]
  },
  {
   "cell_type": "code",
   "execution_count": null,
   "id": "0c5d1f4a-2b73-44b5-b1c0-7bb69b8ebc63",
   "metadata": {},
   "outputs": [],
   "source": []
  },
  {
   "cell_type": "code",
   "execution_count": 84,
   "id": "c2946fa1-ebfa-422d-bda9-a65b4e0ba38c",
   "metadata": {},
   "outputs": [
    {
     "data": {
      "text/plain": [
       "(100,)"
      ]
     },
     "execution_count": 84,
     "metadata": {},
     "output_type": "execute_result"
    }
   ],
   "source": [
    "y.shape"
   ]
  },
  {
   "cell_type": "code",
   "execution_count": 85,
   "id": "486d95ba-1b5e-40ad-9199-17021fe05dd8",
   "metadata": {},
   "outputs": [],
   "source": [
    "from sklearn.model_selection import train_test_split"
   ]
  },
  {
   "cell_type": "code",
   "execution_count": 86,
   "id": "53c7c1e0-9136-4462-8845-017b2ee75fee",
   "metadata": {},
   "outputs": [],
   "source": [
    "x_train, x_test, y_train, y_test = train_test_split(x,y,test_size=0.2)"
   ]
  },
  {
   "cell_type": "code",
   "execution_count": 87,
   "id": "82fec343-3a6c-44c6-bc54-1a1cbed592f7",
   "metadata": {},
   "outputs": [],
   "source": [
    "from sklearn.linear_model import LinearRegression\n",
    "from sklearn.metrics import r2_score, accuracy_score"
   ]
  },
  {
   "cell_type": "code",
   "execution_count": 88,
   "id": "81f5118a-c4e1-4d0b-b333-983c3fdf45f3",
   "metadata": {},
   "outputs": [
    {
     "name": "stdout",
     "output_type": "stream",
     "text": [
      "0.0047545784439813055\n"
     ]
    }
   ],
   "source": [
    "Lr= LinearRegression()\n",
    "Lr.fit(x_train,y_train)\n",
    "y_lr_pred=Lr.predict(x_test)\n",
    "print(r2_score(y_test,y_lr_pred))\n",
    "# accuracy_score(y_test,y_lr_pred)"
   ]
  },
  {
   "cell_type": "code",
   "execution_count": 89,
   "id": "634039b7-ddde-43cb-8d88-b89ff3ef74ba",
   "metadata": {},
   "outputs": [],
   "source": [
    "# x_train[1][1]"
   ]
  },
  {
   "cell_type": "code",
   "execution_count": 90,
   "id": "decd2821-0823-49fd-a166-7974c4e1f564",
   "metadata": {},
   "outputs": [],
   "source": [
    "# x_train"
   ]
  },
  {
   "cell_type": "code",
   "execution_count": 176,
   "id": "157ad94e-380a-4107-a07e-98df88d2ca80",
   "metadata": {},
   "outputs": [],
   "source": [
    "class HGDRegression:\n",
    "\n",
    "    def __init__(self,epochs,lr,row):\n",
    "        self.B0=10\n",
    "        self.B=[]\n",
    "        self.slope_B0=0\n",
    "        # self.slope_B=np.zeros(row.shape[1])\n",
    "        self.slope_B=[]\n",
    "        # self.slope_B0\n",
    "        self.result=[]\n",
    "        for i in range (row.shape[1]):\n",
    "            self.B.append(10)\n",
    "            self.slope_B.append(0)\n",
    "\n",
    "        self.lr=lr\n",
    "        self.epochs=epochs\n",
    "    def fit(self,x,y):\n",
    "        for i in range(self.epochs):\n",
    "             \n",
    "            for j in range(y.shape[0]):\n",
    "                for k in range(x.shape[1]):\n",
    "                    # sum_XB= np.sum(self.B[k]*x[j][k])\n",
    "                    \n",
    "                # self.slope_B0 = -2*(np.sum( y[j]-self.B0-sum_XB))/x.shape[1]\n",
    "                    # slope_B0 = -2*(np.sum( y[j]-self.B0-sum_XB))/x.shape[1]\n",
    "                    self.slope_B0 = (-2/(x.shape[1]+1))*(np.sum( y[j]-self.B0-np.sum(self.B[k]*x[j][k])))\n",
    "                self.B0= self.B0-self.lr*self.slope_B0  \n",
    "                # self.B0= self.B0-self.lr*self.slope_B0  \n",
    "                # print(self.slope_B0)   \n",
    "                for k in range (x.shape[1]):\n",
    "                    for m in range (x.shape[1]):\n",
    "                    \n",
    "                    # sum_XB= np.sum(self.B[k]*x[j][k])\n",
    "                            \n",
    "                    # self.slope_B.append( -2*(np.sum( (y[j]-self.B0-sum_XB)*(x[j][k])))/x.shape[1])\n",
    "                    # self.slope_B[k]=( -2*(np.sum( (y[j]-self.B0-sum_XB)*(x[j][k])))/x.shape[1])\n",
    "                        self.slope_B[k]=( -2*(np.sum( (y[j]-self.B0-np.sum(self.B[m]*x[j][m]))*(x[j][m])))/(x.shape[1]+1))\n",
    "            \n",
    "                    # self.B[k]=self.B[k]-self.lr*self.slope_B[k]\n",
    "                    self.B[k]=self.B[k]-self.lr*self.slope_B[k]\n",
    "        # print(self.slope_B0)            \n",
    "        # print(self.slope_B)            \n",
    "        print(self.B0)\n",
    "        print(self.B)\n",
    "    def predict(self,x):\n",
    "        for i in range(x.shape[0]):\n",
    "            for j in range (x.shape[1]):\n",
    "                sum_XB= np.sum(x[i][j]*self.B[j])\n",
    "    \n",
    "            self.result.append( self.B0+sum_XB   )\n",
    "        return self.result\n",
    "                           "
   ]
  },
  {
   "cell_type": "code",
   "execution_count": 163,
   "id": "ddd4b306-899a-4e7c-9da0-b53138ff8dd1",
   "metadata": {},
   "outputs": [],
   "source": [
    "class GDRegression:\n",
    "\n",
    "    def __init__(self,epochs,lr):\n",
    "        self.B0=1\n",
    "        self.B1=1\n",
    "        self.B2=1\n",
    "        self.result=[]\n",
    "        self.slope_B0=1\n",
    "        self.slope_B1=1\n",
    "        self.slope_B2=1\n",
    "       \n",
    "        self.lr=lr\n",
    "        self.epochs=epochs\n",
    "    def fit(self,x,y):\n",
    "        for i in range(self.epochs):\n",
    "             \n",
    "            for j in range(y.shape[0]):\n",
    "                \n",
    "                self.slope_B0 = -1*np.sum((y[j] - self.B0 - self.B1*x[j][0] - self.B2*x[j][1]))\n",
    "                self.slope_B1 = -1*np.sum((y[j] - self.B0 - self.B1*x[j][0] - self.B2*x[j][1]) * x[j][0])\n",
    "                self.slope_B2 = -1*np.sum((y[j] - self.B0 - self.B1*x[j][0] - self.B2*x[j][1]) * x[j][1])\n",
    "\n",
    "                self.B0= self.B0 - self.lr*self.slope_B0  \n",
    "                self.B1= self.B1 - self.lr*self.slope_B1  \n",
    "                self.B2= self.B2 - self.lr*self.slope_B2  \n",
    "                # print( self.slope_B0)\n",
    "                # print(self.slope_B1)\n",
    "                # print(self.slope_B2)\n",
    "                \n",
    "               \n",
    "        print(self.B0)\n",
    "        print(self.B1)\n",
    "        print(self.B2)\n",
    "\n",
    "    def predict(self,x):\n",
    "        for i in range(x.shape[0]):\n",
    "            # for j in range (x.shape[1]):\n",
    "                # sum_XB= np.sum(x[i][j]*self.B[j])\n",
    "    \n",
    "            self.result.append( self.B0 + self.B1*x[i][0] + self.B2*x[i][1])\n",
    "         # self   \n",
    "        return self.result\n",
    "                           "
   ]
  },
  {
   "cell_type": "code",
   "execution_count": 164,
   "id": "122ea149-6f30-4255-8837-b77296d3fa4a",
   "metadata": {},
   "outputs": [],
   "source": [
    "class SGDRegression:\n",
    "\n",
    "    def __init__(self,epochs,lr):\n",
    "        self.B0=10\n",
    "        self.B1=10\n",
    "        self.B2=10\n",
    "        self.result=[]\n",
    "        self.slope_B0=0\n",
    "        self.slope_B1=0\n",
    "        self.slope_B2=0\n",
    "       \n",
    "        self.lr=lr\n",
    "        self.epochs=epochs\n",
    "    def fit(self,x,y):\n",
    "        for j in range(self.epochs):\n",
    "             \n",
    "            # for j in range(y.shape[\n",
    "                \n",
    "                self.slope_B0 = -1*np.sum((y[j] - self.B0 - self.B1*x[j][0] - self.B2*x[j][1]))\n",
    "                self.slope_B1 = -1*np.sum((y[j] - self.B0 - self.B1*x[j][0] - self.B2*x[j][1]) * x[j][0])\n",
    "                self.slope_B2 = -1*np.sum((y[j] - self.B0 - self.B1*x[j][0] - self.B2*x[j][1]) * x[j][1])\n",
    "\n",
    "                self.B0= self.B0 - self.lr*self.slope_B0  \n",
    "                self.B1= self.B1 - self.lr*self.slope_B1  \n",
    "                self.B2= self.B2 - self.lr*self.slope_B2  \n",
    "                # print( self.slope_B0)\n",
    "                # print(self.slope_B1)\n",
    "                # print(self.slope_B2)\n",
    "                \n",
    "               \n",
    "        print(self.B0)\n",
    "        print(self.B1)\n",
    "        print(self.B2)\n",
    "\n",
    "    def predict(self,x):\n",
    "        for i in range(x.shape[0]):\n",
    "            # for j in range (x.shape[1]):\n",
    "                # sum_XB= np.sum(x[i][j]*self.B[j])\n",
    "    \n",
    "            self.result.append( self.B0 + self.B1*x[i][0] + self.B2*x[i][1])\n",
    "         # self   \n",
    "        return self.result\n",
    "                           "
   ]
  },
  {
   "cell_type": "code",
   "execution_count": 165,
   "id": "cd8da5a5-6af0-49ea-adc2-7e250ab50a36",
   "metadata": {},
   "outputs": [
    {
     "name": "stdout",
     "output_type": "stream",
     "text": [
      "0\n",
      "1\n"
     ]
    }
   ],
   "source": [
    " for j in range (x.shape[1]):\n",
    "     print(j)"
   ]
  },
  {
   "cell_type": "code",
   "execution_count": 177,
   "id": "ca61c0ef-357f-457c-9c13-eee82e50321d",
   "metadata": {},
   "outputs": [],
   "source": [
    "gb=GDRegression(1000,0.0001)\n",
    "hgb=HGDRegression(1000,0.0001,x_train)\n",
    "sgb=HGDRegression(1000,0.0001,x_train)"
   ]
  },
  {
   "cell_type": "code",
   "execution_count": 171,
   "id": "3c31a6c8-9e63-42f2-b82b-fb050d32b448",
   "metadata": {},
   "outputs": [
    {
     "name": "stdout",
     "output_type": "stream",
     "text": [
      "-1.15367173534279\n",
      "2.132734831280419\n",
      "8.104182435576616\n"
     ]
    }
   ],
   "source": [
    "gb.fit(x_train,y_train)\n",
    "# "
   ]
  },
  {
   "cell_type": "code",
   "execution_count": 178,
   "id": "379361b6-9754-4acf-8929-367422e66ed8",
   "metadata": {},
   "outputs": [
    {
     "name": "stdout",
     "output_type": "stream",
     "text": [
      "-1.1941489769274933\n",
      "[1.9556658770382713, 8.088177587081258]\n"
     ]
    }
   ],
   "source": [
    "hgb.fit(x_train,y_train)\n"
   ]
  },
  {
   "cell_type": "code",
   "execution_count": 137,
   "id": "21c41adb-ad71-4238-aa67-443b57f75acc",
   "metadata": {},
   "outputs": [
    {
     "name": "stdout",
     "output_type": "stream",
     "text": [
      "-1.250607421532147\n",
      "[1.948847804577574, 8.037039676662118]\n"
     ]
    }
   ],
   "source": [
    "sgb.fit(x_train,y_train)\n"
   ]
  },
  {
   "cell_type": "code",
   "execution_count": 138,
   "id": "f996c792-80b6-4064-b7ea-40eda03ef581",
   "metadata": {},
   "outputs": [
    {
     "data": {
      "text/plain": [
       "[-2.962695234596841,\n",
       " -8.987096341745346,\n",
       " 0.03814771079925272,\n",
       " -16.556773955901832,\n",
       " -2.265289865858791,\n",
       " -6.258510411860332,\n",
       " -5.009134548196442,\n",
       " -2.0200115097607063,\n",
       " -5.343038324028078,\n",
       " -10.797122692879174,\n",
       " 2.0361449093459325,\n",
       " 2.1195006011744684,\n",
       " -10.067897389911547,\n",
       " -7.59755002223715,\n",
       " 0.9440892136796817,\n",
       " -0.08671837631287005,\n",
       " -3.486059872906033,\n",
       " -1.3804960686985273,\n",
       " -4.462191023087636,\n",
       " 7.067387326460114]"
      ]
     },
     "execution_count": 138,
     "metadata": {},
     "output_type": "execute_result"
    }
   ],
   "source": [
    "y_gb_pred=gb.predict(x_test)\n",
    "y_gb_pred"
   ]
  },
  {
   "cell_type": "code",
   "execution_count": 139,
   "id": "8016176e-e46a-4bf6-b50c-7b8f31eeb6aa",
   "metadata": {},
   "outputs": [
    {
     "data": {
      "text/plain": [
       "[-3.7608038198492455,\n",
       " -9.60021762786334,\n",
       " -3.728542981317614,\n",
       " -12.905466000936206,\n",
       " 0.7702972460709261,\n",
       " -3.810918557634848,\n",
       " -8.05142092068793,\n",
       " -2.8627936865596713,\n",
       " -7.894789640617274,\n",
       " -10.676798744348313,\n",
       " 2.748260964917814,\n",
       " 0.5393782813912895,\n",
       " -9.673200499990747,\n",
       " -10.63129454909344,\n",
       " -2.56013297128274,\n",
       " 3.458922665697734,\n",
       " -2.5036504942777347,\n",
       " -0.5997807854557098,\n",
       " -5.791361539080711,\n",
       " 2.787132076170695]"
      ]
     },
     "execution_count": 139,
     "metadata": {},
     "output_type": "execute_result"
    }
   ],
   "source": [
    "y_hgb_pred=hgb.predict(x_test)\n",
    "y_hgb_pred"
   ]
  },
  {
   "cell_type": "code",
   "execution_count": 140,
   "id": "78f9e4b8-5dd4-4056-9d5a-6f7ec2aec7c5",
   "metadata": {},
   "outputs": [
    {
     "data": {
      "text/plain": [
       "[-3.7608038198492455,\n",
       " -9.60021762786334,\n",
       " -3.728542981317614,\n",
       " -12.905466000936206,\n",
       " 0.7702972460709261,\n",
       " -3.810918557634848,\n",
       " -8.05142092068793,\n",
       " -2.8627936865596713,\n",
       " -7.894789640617274,\n",
       " -10.676798744348313,\n",
       " 2.748260964917814,\n",
       " 0.5393782813912895,\n",
       " -9.673200499990747,\n",
       " -10.63129454909344,\n",
       " -2.56013297128274,\n",
       " 3.458922665697734,\n",
       " -2.5036504942777347,\n",
       " -0.5997807854557098,\n",
       " -5.791361539080711,\n",
       " 2.787132076170695]"
      ]
     },
     "execution_count": 140,
     "metadata": {},
     "output_type": "execute_result"
    }
   ],
   "source": [
    "y_sgb_pred=sgb.predict(x_test)\n",
    "y_sgb_pred"
   ]
  },
  {
   "cell_type": "code",
   "execution_count": 141,
   "id": "6c0d4bb4-3134-40b3-93e3-7e6653da8567",
   "metadata": {},
   "outputs": [
    {
     "data": {
      "text/plain": [
       "array([ -2.96405353,  -8.98334474,   0.02504501, -16.53370709,\n",
       "        -2.25491072,  -6.24701682,  -5.01613509,  -2.02221969,\n",
       "        -5.34821967, -10.78966795,   2.03586732,   2.11182972,\n",
       "       -10.0601121 ,  -7.60258194,   0.93114645,  -0.07634196,\n",
       "        -3.48133139,  -1.37799179,  -4.46412308,   7.04737028])"
      ]
     },
     "execution_count": 141,
     "metadata": {},
     "output_type": "execute_result"
    }
   ],
   "source": [
    "y_lr_pred"
   ]
  },
  {
   "cell_type": "code",
   "execution_count": 142,
   "id": "2ebd5528-916d-46ac-9a17-9568d118b9fb",
   "metadata": {},
   "outputs": [
    {
     "data": {
      "text/plain": [
       "array([[ 0.33928471, -0.31232848],\n",
       "       [ 0.28523808, -1.03889125],\n",
       "       [ 1.72968803, -0.30831446],\n",
       "       [-1.69390696, -1.45014322],\n",
       "       [-1.48184894,  0.25144889],\n",
       "       [-1.18083045, -0.31856395],\n",
       "       [ 1.41449195, -0.84618389],\n",
       "       [ 0.35519677, -0.20059454],\n",
       "       [ 1.18383423, -0.82669521],\n",
       "       [-0.05232058, -1.1728437 ],\n",
       "       [-0.4045022 ,  0.49755489],\n",
       "       [ 0.68159371,  0.22271704],\n",
       "       [-0.18645023, -1.04797207],\n",
       "       [ 1.42489683, -1.16718189],\n",
       "       [ 1.6002145 , -0.16293631],\n",
       "       [-1.73578876,  0.58597821],\n",
       "       [-0.50178967, -0.15590853],\n",
       "       [-0.41794071,  0.0809784 ],\n",
       "       [ 0.59939069, -0.56497844],\n",
       "       [ 1.93387498,  0.50239139]])"
      ]
     },
     "execution_count": 142,
     "metadata": {},
     "output_type": "execute_result"
    }
   ],
   "source": [
    "x_test"
   ]
  },
  {
   "cell_type": "code",
   "execution_count": 143,
   "id": "a6388f38-c666-4d03-9b35-260d51297da4",
   "metadata": {},
   "outputs": [],
   "source": [
    "# r2_score(y,y_gb_pred)\n",
    "# accuracy_score(y_test,y_gb_pred)\n",
    "\n",
    "# "
   ]
  },
  {
   "cell_type": "code",
   "execution_count": 144,
   "id": "5df7f57f-09c7-48f6-ba67-a1228e70374a",
   "metadata": {},
   "outputs": [
    {
     "data": {
      "text/plain": [
       "0.0047545784439813055"
      ]
     },
     "execution_count": 144,
     "metadata": {},
     "output_type": "execute_result"
    }
   ],
   "source": [
    "r2_score(y_test,y_lr_pred)\n",
    "# r2_score(y_lr_pred,y_test)\n"
   ]
  },
  {
   "cell_type": "code",
   "execution_count": 145,
   "id": "942e6742-1bbf-4dac-b857-6ccd3d73350c",
   "metadata": {},
   "outputs": [
    {
     "data": {
      "text/plain": [
       "-0.16427919120105483"
      ]
     },
     "execution_count": 145,
     "metadata": {},
     "output_type": "execute_result"
    }
   ],
   "source": [
    "r2_score(y_test,y_hgb_pred)\n"
   ]
  },
  {
   "cell_type": "code",
   "execution_count": 146,
   "id": "2fd5a291-0795-4332-9c28-0af42063180c",
   "metadata": {},
   "outputs": [
    {
     "data": {
      "text/plain": [
       "-0.16427919120105483"
      ]
     },
     "execution_count": 146,
     "metadata": {},
     "output_type": "execute_result"
    }
   ],
   "source": [
    "r2_score(y_test,y_hgb_pred)\n"
   ]
  },
  {
   "cell_type": "code",
   "execution_count": 147,
   "id": "d61de3aa-dc3b-49b6-b523-5a8fbe9620e5",
   "metadata": {},
   "outputs": [
    {
     "data": {
      "text/plain": [
       "-0.16427919120105483"
      ]
     },
     "execution_count": 147,
     "metadata": {},
     "output_type": "execute_result"
    }
   ],
   "source": [
    "r2_score(y_test,y_sgb_pred)\n"
   ]
  },
  {
   "cell_type": "code",
   "execution_count": 148,
   "id": "220d0196-b469-43dc-bc75-ad562e83ff3a",
   "metadata": {},
   "outputs": [
    {
     "data": {
      "text/plain": [
       "0.9999964664975429"
      ]
     },
     "execution_count": 148,
     "metadata": {},
     "output_type": "execute_result"
    }
   ],
   "source": [
    "r2_score(y_lr_pred,y_gb_pred)\n"
   ]
  },
  {
   "cell_type": "code",
   "execution_count": 149,
   "id": "f2d10371-e156-4db5-a58c-726339e2829a",
   "metadata": {},
   "outputs": [
    {
     "data": {
      "text/plain": [
       "0.7856297428022099"
      ]
     },
     "execution_count": 149,
     "metadata": {},
     "output_type": "execute_result"
    }
   ],
   "source": [
    "r2_score(y_lr_pred,y_hgb_pred)\n"
   ]
  },
  {
   "cell_type": "code",
   "execution_count": 150,
   "id": "967095ec-7371-433e-bf12-92c329267df8",
   "metadata": {},
   "outputs": [
    {
     "data": {
      "text/plain": [
       "0.7856297428022099"
      ]
     },
     "execution_count": 150,
     "metadata": {},
     "output_type": "execute_result"
    }
   ],
   "source": [
    "r2_score(y_lr_pred,y_sgb_pred)\n"
   ]
  },
  {
   "cell_type": "code",
   "execution_count": 151,
   "id": "d6773028-d3a2-4630-ae25-360862c5575b",
   "metadata": {},
   "outputs": [
    {
     "data": {
      "text/plain": [
       "0.7846163097274174"
      ]
     },
     "execution_count": 151,
     "metadata": {},
     "output_type": "execute_result"
    }
   ],
   "source": [
    "r2_score(y_gb_pred,y_hgb_pred)\n"
   ]
  },
  {
   "cell_type": "code",
   "execution_count": 152,
   "id": "31557a16-82fb-4a58-9c09-b0e56b142a54",
   "metadata": {},
   "outputs": [
    {
     "data": {
      "text/plain": [
       "0.7846163097274174"
      ]
     },
     "execution_count": 152,
     "metadata": {},
     "output_type": "execute_result"
    }
   ],
   "source": [
    "r2_score(y_gb_pred,y_sgb_pred)\n",
    "# r2_score(y_sgb_pred,y_gb_pred)\n"
   ]
  },
  {
   "cell_type": "code",
   "execution_count": 153,
   "id": "432162b7-a72b-481e-afd9-262f94eb2898",
   "metadata": {},
   "outputs": [
    {
     "data": {
      "text/plain": [
       "1.0"
      ]
     },
     "execution_count": 153,
     "metadata": {},
     "output_type": "execute_result"
    }
   ],
   "source": [
    "r2_score(y_hgb_pred,y_sgb_pred)\n"
   ]
  },
  {
   "cell_type": "code",
   "execution_count": 154,
   "id": "a4c7de0c-c423-492b-9d2f-168518de2f3f",
   "metadata": {},
   "outputs": [
    {
     "data": {
      "text/plain": [
       "1.0"
      ]
     },
     "execution_count": 154,
     "metadata": {},
     "output_type": "execute_result"
    }
   ],
   "source": [
    "r2_score(y_sgb_pred,y_hgb_pred)\n"
   ]
  },
  {
   "cell_type": "code",
   "execution_count": null,
   "id": "56219090-300a-4c44-aa94-b47727e5b3be",
   "metadata": {},
   "outputs": [],
   "source": []
  },
  {
   "cell_type": "code",
   "execution_count": null,
   "id": "1e859531-a898-4797-b411-af78f1cf779a",
   "metadata": {},
   "outputs": [],
   "source": []
  },
  {
   "cell_type": "code",
   "execution_count": null,
   "id": "1c664896-5ad1-40bd-962e-144b81cdc77c",
   "metadata": {},
   "outputs": [],
   "source": []
  }
 ],
 "metadata": {
  "kernelspec": {
   "display_name": "Python 3 (ipykernel)",
   "language": "python",
   "name": "python3"
  },
  "language_info": {
   "codemirror_mode": {
    "name": "ipython",
    "version": 3
   },
   "file_extension": ".py",
   "mimetype": "text/x-python",
   "name": "python",
   "nbconvert_exporter": "python",
   "pygments_lexer": "ipython3",
   "version": "3.11.7"
  }
 },
 "nbformat": 4,
 "nbformat_minor": 5
}
