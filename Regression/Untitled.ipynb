{
 "cells": [
  {
   "cell_type": "code",
   "execution_count": null,
   "id": "f8d6ef4a-e9a1-4235-8d3a-06e7543c10ba",
   "metadata": {},
   "outputs": [],
   "source": [
    "import pandas as pd\n",
    "import numpy as np\n"
   ]
  },
  {
   "cell_type": "code",
   "execution_count": null,
   "id": "1c104eef-3e70-4d48-8c2c-7fefc3d43e31",
   "metadata": {},
   "outputs": [],
   "source": [
    "df=pd.read_csv(\"C:\\\\Users\\\\choud\\\\Desktop\\\\jupter_files\\\\seattle-weather.csv\")\n",
    "# C:\\Users\\choud\\Desktop\\jupter_files\\seattle-weather.xlsx\n",
    "# \"C:\\Users\\choud\\Desktop\\jupter_files\\seattle-weather.csv\"\n",
    "df"
   ]
  },
  {
   "cell_type": "code",
   "execution_count": null,
   "id": "bbdd6f18-d6fc-407d-b820-c19e376fda12",
   "metadata": {},
   "outputs": [],
   "source": [
    "df.isnull().sum()\n"
   ]
  },
  {
   "cell_type": "code",
   "execution_count": null,
   "id": "790fbc69-7511-4beb-adda-97490234554e",
   "metadata": {},
   "outputs": [],
   "source": [
    "# df['precipitation','temo_max','temp_min'].fill"
   ]
  },
  {
   "cell_type": "code",
   "execution_count": null,
   "id": "e70920e2-38b0-4474-9b99-ab35546c35dd",
   "metadata": {},
   "outputs": [],
   "source": [
    "na_variables = [ var for var in df.columns if df[var].isnull().mean() > 0 ]\n",
    "na_variables"
   ]
  },
  {
   "cell_type": "code",
   "execution_count": null,
   "id": "d0a4f06d-1c4d-4cc7-9394-1b9ff82729c1",
   "metadata": {},
   "outputs": [],
   "source": [
    "# for col in df[:,1:4].columns:\n",
    "#     df[col].fillna(df[col].mean(),inplace=True)\n",
    "# df\n"
   ]
  },
  {
   "cell_type": "code",
   "execution_count": null,
   "id": "74a68189-77fb-4095-95f0-79befe501c50",
   "metadata": {},
   "outputs": [],
   "source": [
    "df['precipitation'].fillna(9,inplace=True)\n"
   ]
  },
  {
   "cell_type": "code",
   "execution_count": null,
   "id": "53315fb0-073e-463f-a576-023fc8a1eb7c",
   "metadata": {},
   "outputs": [],
   "source": [
    "# df['precipitation'].fillna(df.mean(),inplace=True)\n",
    "df['temp_max'].fillna(df['temp_max'].mean(),inplace=True)\n",
    "df['temp_min'].fillna(df['temp_min'].median(),inplace=True)\n"
   ]
  },
  {
   "cell_type": "code",
   "execution_count": null,
   "id": "a6aec089-1db0-459f-b987-3a8dd3a9abdf",
   "metadata": {},
   "outputs": [],
   "source": [
    "df.isnull().sum()"
   ]
  },
  {
   "cell_type": "code",
   "execution_count": null,
   "id": "a6f814da-5624-42cc-9bff-7fb407d63b3f",
   "metadata": {},
   "outputs": [],
   "source": [
    "df['temp_min']"
   ]
  },
  {
   "cell_type": "code",
   "execution_count": null,
   "id": "6387e65c-fc89-498f-9c95-442f0953e34c",
   "metadata": {},
   "outputs": [],
   "source": []
  },
  {
   "cell_type": "code",
   "execution_count": null,
   "id": "b26d3953-e180-4ac5-abd9-69e5190123db",
   "metadata": {},
   "outputs": [],
   "source": []
  },
  {
   "cell_type": "code",
   "execution_count": null,
   "id": "082a2645-214d-4718-98e7-ff533a904ebc",
   "metadata": {},
   "outputs": [],
   "source": []
  }
 ],
 "metadata": {
  "kernelspec": {
   "display_name": "Python 3 (ipykernel)",
   "language": "python",
   "name": "python3"
  },
  "language_info": {
   "codemirror_mode": {
    "name": "ipython",
    "version": 3
   },
   "file_extension": ".py",
   "mimetype": "text/x-python",
   "name": "python",
   "nbconvert_exporter": "python",
   "pygments_lexer": "ipython3",
   "version": "3.12.5"
  }
 },
 "nbformat": 4,
 "nbformat_minor": 5
}
