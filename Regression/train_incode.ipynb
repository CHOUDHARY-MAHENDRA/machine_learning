{
 "cells": [
  {
   "cell_type": "raw",
   "id": "ce470249-61dc-40f9-9c41-c25a1200854a",
   "metadata": {},
   "source": [
    " train "
   ]
  },
  {
   "cell_type": "code",
   "execution_count": null,
   "id": "4909042a-cab0-435c-b339-0677f55105b3",
   "metadata": {},
   "outputs": [],
   "source": [
    "\n",
    "import numpy as NP\n",
    "import pandas as pd\n",
    "# import matplotlib.pyplot as plt\n",
    "from sklearn.model_selection import train_test_split\n",
    "from sklearn.preprocessing import OrdinalEncoder\n",
    "                                                        \n",
    "\n",
    "\n",
    "\n"
   ]
  },
  {
   "cell_type": "code",
   "execution_count": null,
   "id": "2f72c241-a642-4fde-afe3-1aa9ba89f015",
   "metadata": {},
   "outputs": [],
   "source": [
    "df=pd.read_csv(\"C:\\\\Users\\\\choud\\\\Desktop\\\\jupter_files\\\\customer (1).csv\")\n",
    "df"
   ]
  },
  {
   "cell_type": "code",
   "execution_count": null,
   "id": "13941704-158f-4b66-83e8-c6b2dc627fed",
   "metadata": {},
   "outputs": [],
   "source": [
    "x=df.drop([\"purchased\", \"gender\", \"age\"],axis=1)\n",
    "x\n",
    "x.shape"
   ]
  },
  {
   "cell_type": "code",
   "execution_count": null,
   "id": "397cd847-2432-4af4-9502-22f5f7893012",
   "metadata": {},
   "outputs": [],
   "source": [
    "y = df[\"purchased\"]\n",
    "y"
   ]
  },
  {
   "cell_type": "code",
   "execution_count": null,
   "id": "5017596b-c5f0-4d3c-a230-90ec40be3d14",
   "metadata": {},
   "outputs": [],
   "source": [
    "x_train, x_test, y_train, ytest = train_test_split(x,y,test_size=0.3)"
   ]
  },
  {
   "cell_type": "code",
   "execution_count": null,
   "id": "55e859ce-3977-4aa0-a379-347697c01f7f",
   "metadata": {},
   "outputs": [],
   "source": [
    "x_train"
   ]
  },
  {
   "cell_type": "code",
   "execution_count": null,
   "id": "2cf30f63-a1fd-4cce-be5b-3e5d6cf08ef7",
   "metadata": {},
   "outputs": [],
   "source": [
    "oe=OrdinalEncoder(categories=[['Poor','Average','Good'],['School','UG','PG']])"
   ]
  },
  {
   "cell_type": "code",
   "execution_count": null,
   "id": "8b670c05-b6c0-4e6d-8bdd-8be09b528ccd",
   "metadata": {},
   "outputs": [],
   "source": [
    "oe.fit(x_train) "
   ]
  },
  {
   "cell_type": "code",
   "execution_count": null,
   "id": "80187522-c0ec-421f-bc7e-8e71864aab70",
   "metadata": {},
   "outputs": [],
   "source": [
    "oe.transform(x_train)"
   ]
  },
  {
   "cell_type": "code",
   "execution_count": null,
   "id": "0e729ff5-b021-4381-ab46-ad17072718f9",
   "metadata": {},
   "outputs": [],
   "source": []
  }
 ],
 "metadata": {
  "kernelspec": {
   "display_name": "Python 3 (ipykernel)",
   "language": "python",
   "name": "python3"
  },
  "language_info": {
   "codemirror_mode": {
    "name": "ipython",
    "version": 3
   },
   "file_extension": ".py",
   "mimetype": "text/x-python",
   "name": "python",
   "nbconvert_exporter": "python",
   "pygments_lexer": "ipython3",
   "version": "3.12.5"
  }
 },
 "nbformat": 4,
 "nbformat_minor": 5
}
